{
 "cells": [
  {
   "cell_type": "markdown",
   "id": "f8238f03-a955-45a0-8834-9a761b092c23",
   "metadata": {},
   "source": [
    "<h1>Importamos librerias</h1>"
   ]
  },
  {
   "cell_type": "code",
   "execution_count": 1,
   "id": "cf73e57a-7fdd-4104-b79a-4661d9759cf4",
   "metadata": {},
   "outputs": [],
   "source": [
    "import pandas as pd"
   ]
  },
  {
   "cell_type": "markdown",
   "id": "7a2e7443-3939-4612-9e91-ab387a0ba384",
   "metadata": {},
   "source": [
    "<h1>Cargar data</h1>"
   ]
  },
  {
   "cell_type": "code",
   "execution_count": 2,
   "id": "e74b765d-cc44-4ac8-bc4e-628501c1aff6",
   "metadata": {},
   "outputs": [],
   "source": [
    "insurance = pd.read_csv(\"insurance.csv\")"
   ]
  },
  {
   "cell_type": "markdown",
   "id": "c503e3ce-3956-4502-8531-87c59286fbed",
   "metadata": {},
   "source": [
    "<h1>Informacion general del dataset</h1>"
   ]
  },
  {
   "cell_type": "markdown",
   "id": "b69cc2bb-87e1-4df9-9f41-d3edd0a8b75f",
   "metadata": {},
   "source": [
    "- **age** Edad del asegurado (en años)\n",
    "- **sex** Género del asegurado (male/female)\n",
    "- **bmi** Índice de masa corporal del asegurado (BMI)\n",
    "- **children** Número de hijos/dependientes cubiertos por el seguro\n",
    "- **smoker** Indica si el asegurado es fumador (yes/no)\n",
    "- **region** Región geográfica donde reside el asegurado\n",
    "- **charges** Cargos del seguro médico pagados por el asegurado"
   ]
  },
  {
   "cell_type": "code",
   "execution_count": 3,
   "id": "834c148c-b9a5-4715-803e-1abfd9d2feca",
   "metadata": {
    "scrolled": true
   },
   "outputs": [
    {
     "data": {
      "text/html": [
       "<div>\n",
       "<style scoped>\n",
       "    .dataframe tbody tr th:only-of-type {\n",
       "        vertical-align: middle;\n",
       "    }\n",
       "\n",
       "    .dataframe tbody tr th {\n",
       "        vertical-align: top;\n",
       "    }\n",
       "\n",
       "    .dataframe thead th {\n",
       "        text-align: right;\n",
       "    }\n",
       "</style>\n",
       "<table border=\"1\" class=\"dataframe\">\n",
       "  <thead>\n",
       "    <tr style=\"text-align: right;\">\n",
       "      <th></th>\n",
       "      <th>age</th>\n",
       "      <th>sex</th>\n",
       "      <th>bmi</th>\n",
       "      <th>children</th>\n",
       "      <th>smoker</th>\n",
       "      <th>region</th>\n",
       "      <th>charges</th>\n",
       "    </tr>\n",
       "  </thead>\n",
       "  <tbody>\n",
       "    <tr>\n",
       "      <th>0</th>\n",
       "      <td>19</td>\n",
       "      <td>female</td>\n",
       "      <td>27.900</td>\n",
       "      <td>0</td>\n",
       "      <td>yes</td>\n",
       "      <td>southwest</td>\n",
       "      <td>16884.92400</td>\n",
       "    </tr>\n",
       "    <tr>\n",
       "      <th>1</th>\n",
       "      <td>18</td>\n",
       "      <td>male</td>\n",
       "      <td>33.770</td>\n",
       "      <td>1</td>\n",
       "      <td>no</td>\n",
       "      <td>southeast</td>\n",
       "      <td>1725.55230</td>\n",
       "    </tr>\n",
       "    <tr>\n",
       "      <th>2</th>\n",
       "      <td>28</td>\n",
       "      <td>male</td>\n",
       "      <td>33.000</td>\n",
       "      <td>3</td>\n",
       "      <td>no</td>\n",
       "      <td>southeast</td>\n",
       "      <td>4449.46200</td>\n",
       "    </tr>\n",
       "    <tr>\n",
       "      <th>3</th>\n",
       "      <td>33</td>\n",
       "      <td>male</td>\n",
       "      <td>22.705</td>\n",
       "      <td>0</td>\n",
       "      <td>no</td>\n",
       "      <td>northwest</td>\n",
       "      <td>21984.47061</td>\n",
       "    </tr>\n",
       "    <tr>\n",
       "      <th>4</th>\n",
       "      <td>32</td>\n",
       "      <td>male</td>\n",
       "      <td>28.880</td>\n",
       "      <td>0</td>\n",
       "      <td>no</td>\n",
       "      <td>northwest</td>\n",
       "      <td>3866.85520</td>\n",
       "    </tr>\n",
       "  </tbody>\n",
       "</table>\n",
       "</div>"
      ],
      "text/plain": [
       "   age     sex     bmi  children smoker     region      charges\n",
       "0   19  female  27.900         0    yes  southwest  16884.92400\n",
       "1   18    male  33.770         1     no  southeast   1725.55230\n",
       "2   28    male  33.000         3     no  southeast   4449.46200\n",
       "3   33    male  22.705         0     no  northwest  21984.47061\n",
       "4   32    male  28.880         0     no  northwest   3866.85520"
      ]
     },
     "execution_count": 3,
     "metadata": {},
     "output_type": "execute_result"
    }
   ],
   "source": [
    "insurance.head()"
   ]
  },
  {
   "cell_type": "code",
   "execution_count": 4,
   "id": "a46abd4d-74e1-469a-b640-e5a107c94635",
   "metadata": {},
   "outputs": [
    {
     "name": "stdout",
     "output_type": "stream",
     "text": [
      "region\n",
      "southeast    364\n",
      "southwest    325\n",
      "northwest    325\n",
      "northeast    324\n",
      "Name: count, dtype: int64\n"
     ]
    }
   ],
   "source": [
    "unique_values = insurance['region'].value_counts()\n",
    "print(unique_values)"
   ]
  },
  {
   "cell_type": "code",
   "execution_count": 5,
   "id": "9442c414-d1ad-42a8-a1a6-54d4b884ba52",
   "metadata": {},
   "outputs": [
    {
     "name": "stdout",
     "output_type": "stream",
     "text": [
      "<class 'pandas.core.frame.DataFrame'>\n",
      "RangeIndex: 1338 entries, 0 to 1337\n",
      "Data columns (total 7 columns):\n",
      " #   Column    Non-Null Count  Dtype  \n",
      "---  ------    --------------  -----  \n",
      " 0   age       1338 non-null   int64  \n",
      " 1   sex       1338 non-null   object \n",
      " 2   bmi       1338 non-null   float64\n",
      " 3   children  1338 non-null   int64  \n",
      " 4   smoker    1338 non-null   object \n",
      " 5   region    1338 non-null   object \n",
      " 6   charges   1338 non-null   float64\n",
      "dtypes: float64(2), int64(2), object(3)\n",
      "memory usage: 73.3+ KB\n"
     ]
    }
   ],
   "source": [
    "insurance.info()\n",
    "#Tenemos 1338 registros"
   ]
  },
  {
   "cell_type": "code",
   "execution_count": 6,
   "id": "98466da3-ff74-4ea8-bb53-ba4f661f1e82",
   "metadata": {},
   "outputs": [
    {
     "data": {
      "text/html": [
       "<div>\n",
       "<style scoped>\n",
       "    .dataframe tbody tr th:only-of-type {\n",
       "        vertical-align: middle;\n",
       "    }\n",
       "\n",
       "    .dataframe tbody tr th {\n",
       "        vertical-align: top;\n",
       "    }\n",
       "\n",
       "    .dataframe thead th {\n",
       "        text-align: right;\n",
       "    }\n",
       "</style>\n",
       "<table border=\"1\" class=\"dataframe\">\n",
       "  <thead>\n",
       "    <tr style=\"text-align: right;\">\n",
       "      <th></th>\n",
       "      <th>age</th>\n",
       "      <th>bmi</th>\n",
       "      <th>children</th>\n",
       "      <th>charges</th>\n",
       "    </tr>\n",
       "  </thead>\n",
       "  <tbody>\n",
       "    <tr>\n",
       "      <th>count</th>\n",
       "      <td>1338.000000</td>\n",
       "      <td>1338.000000</td>\n",
       "      <td>1338.000000</td>\n",
       "      <td>1338.000000</td>\n",
       "    </tr>\n",
       "    <tr>\n",
       "      <th>mean</th>\n",
       "      <td>39.207025</td>\n",
       "      <td>30.663397</td>\n",
       "      <td>1.094918</td>\n",
       "      <td>13270.422265</td>\n",
       "    </tr>\n",
       "    <tr>\n",
       "      <th>std</th>\n",
       "      <td>14.049960</td>\n",
       "      <td>6.098187</td>\n",
       "      <td>1.205493</td>\n",
       "      <td>12110.011237</td>\n",
       "    </tr>\n",
       "    <tr>\n",
       "      <th>min</th>\n",
       "      <td>18.000000</td>\n",
       "      <td>15.960000</td>\n",
       "      <td>0.000000</td>\n",
       "      <td>1121.873900</td>\n",
       "    </tr>\n",
       "    <tr>\n",
       "      <th>25%</th>\n",
       "      <td>27.000000</td>\n",
       "      <td>26.296250</td>\n",
       "      <td>0.000000</td>\n",
       "      <td>4740.287150</td>\n",
       "    </tr>\n",
       "    <tr>\n",
       "      <th>50%</th>\n",
       "      <td>39.000000</td>\n",
       "      <td>30.400000</td>\n",
       "      <td>1.000000</td>\n",
       "      <td>9382.033000</td>\n",
       "    </tr>\n",
       "    <tr>\n",
       "      <th>75%</th>\n",
       "      <td>51.000000</td>\n",
       "      <td>34.693750</td>\n",
       "      <td>2.000000</td>\n",
       "      <td>16639.912515</td>\n",
       "    </tr>\n",
       "    <tr>\n",
       "      <th>max</th>\n",
       "      <td>64.000000</td>\n",
       "      <td>53.130000</td>\n",
       "      <td>5.000000</td>\n",
       "      <td>63770.428010</td>\n",
       "    </tr>\n",
       "  </tbody>\n",
       "</table>\n",
       "</div>"
      ],
      "text/plain": [
       "               age          bmi     children       charges\n",
       "count  1338.000000  1338.000000  1338.000000   1338.000000\n",
       "mean     39.207025    30.663397     1.094918  13270.422265\n",
       "std      14.049960     6.098187     1.205493  12110.011237\n",
       "min      18.000000    15.960000     0.000000   1121.873900\n",
       "25%      27.000000    26.296250     0.000000   4740.287150\n",
       "50%      39.000000    30.400000     1.000000   9382.033000\n",
       "75%      51.000000    34.693750     2.000000  16639.912515\n",
       "max      64.000000    53.130000     5.000000  63770.428010"
      ]
     },
     "execution_count": 6,
     "metadata": {},
     "output_type": "execute_result"
    }
   ],
   "source": [
    "insurance.describe()"
   ]
  },
  {
   "cell_type": "markdown",
   "id": "1c02f842-818a-4f9d-94f6-c048306d75b5",
   "metadata": {},
   "source": [
    "<h1>Encoding de la variable sex</h1\n",
    "<p> male = 1 female = 0 </p>"
   ]
  },
  {
   "cell_type": "code",
   "execution_count": 7,
   "id": "a0a2c088-385a-4926-9477-a5f1eed23380",
   "metadata": {},
   "outputs": [],
   "source": [
    "insurance['sex'] = insurance['sex'].map({'male': 1, 'female': 0})"
   ]
  },
  {
   "cell_type": "markdown",
   "id": "59394f6b-3997-414a-a89a-6f4be11c5aac",
   "metadata": {},
   "source": [
    "<h1>Encoding de la variable smoker</h1>\n",
    "<p>yes = 1 no = 0</p>"
   ]
  },
  {
   "cell_type": "code",
   "execution_count": 8,
   "id": "f15514f3-adfa-4af4-877d-338fbbbf1255",
   "metadata": {},
   "outputs": [],
   "source": [
    "insurance['smoker'] = insurance['smoker'].map({'yes': 1, 'no': 0})"
   ]
  },
  {
   "cell_type": "markdown",
   "id": "f47327f6-aa89-4b8f-967f-af043d057b32",
   "metadata": {},
   "source": [
    "<h1>Encoding variable region</h1>"
   ]
  },
  {
   "cell_type": "code",
   "execution_count": 9,
   "id": "12fd5baf-f82e-43c8-9e5e-ec84b476bb6b",
   "metadata": {},
   "outputs": [
    {
     "name": "stdout",
     "output_type": "stream",
     "text": [
      "   age  sex     bmi  children  smoker      charges  region_northeast  \\\n",
      "0   19    0  27.900         0       1  16884.92400                 0   \n",
      "1   18    1  33.770         1       0   1725.55230                 0   \n",
      "2   28    1  33.000         3       0   4449.46200                 0   \n",
      "3   33    1  22.705         0       0  21984.47061                 0   \n",
      "4   32    1  28.880         0       0   3866.85520                 0   \n",
      "\n",
      "   region_northwest  region_southeast  region_southwest  \n",
      "0                 0                 0                 1  \n",
      "1                 0                 1                 0  \n",
      "2                 0                 1                 0  \n",
      "3                 1                 0                 0  \n",
      "4                 1                 0                 0  \n"
     ]
    }
   ],
   "source": [
    "# Aplicar codificación one-hot a la columna \"region\" y convertir los valores a 0 y 1\n",
    "encoded_region = pd.get_dummies(insurance['region'], prefix='region').astype(int)\n",
    "\n",
    "# Concatenar las nuevas columnas codificadas al DataFrame original\n",
    "df_encoded = pd.concat([insurance, encoded_region], axis=1)\n",
    "\n",
    "# Eliminar la columna original \"region\" si se desea\n",
    "df_encoded.drop(columns=['region'], inplace=True)\n",
    "\n",
    "# Mostrar las primeras filas del DataFrame con las nuevas columnas codificadas\n",
    "print(df_encoded.head())"
   ]
  },
  {
   "cell_type": "code",
   "execution_count": 10,
   "id": "dc2998b5-3adf-40ec-a19e-df403b71ed94",
   "metadata": {},
   "outputs": [],
   "source": [
    "# Guardar el DataFrame codificado en un nuevo archivo CSV\n",
    "df_encoded.to_csv('insurance_codificado.csv', index=False)"
   ]
  },
  {
   "cell_type": "markdown",
   "id": "eed870ba-d6f7-4505-9f86-9a59993728c2",
   "metadata": {},
   "source": [
    "<h1>Cargar el nuevo dataset con las variables codificadas</h1>"
   ]
  },
  {
   "cell_type": "code",
   "execution_count": 11,
   "id": "6a16f482-84d0-4d54-973a-51c307c55923",
   "metadata": {},
   "outputs": [],
   "source": [
    "insurance_codificado = pd.read_csv('insurance_codificado.csv')"
   ]
  },
  {
   "cell_type": "markdown",
   "id": "004c64eb-1fab-43c9-9c0a-e133def7f4a5",
   "metadata": {},
   "source": [
    "- **age**: Edad del asegurado (en años)\r\n",
    "- **sex**: Género del asegurado (male/female)\r\n",
    "- **bmi**: Índice de masa corporal del asegurado (BMI)\r\n",
    "- **children**: Número de hijos/dependientes cubiertos por el seguro\r\n",
    "- **smoker**: Indica si el asegurado es fumador (yes\n",
    "- **charges**: Cargos del seguro médico pagados por el asegurado/no)\r\n",
    "- **southwest**: Indicador de la región suroeste (0: No, 1: Sí)\r\n",
    "- **southeast**: Indicador de la región sureste (0: No, 1: Sí)\r\n",
    "- **northwest**: Indicador de la región noroeste (0: No, 1: Sí)\r\n",
    "- **northeast**: Indicador de la región noreste (0: Noasegurado"
   ]
  },
  {
   "cell_type": "code",
   "execution_count": 12,
   "id": "0633d618-e66e-45b1-9c55-307674cdc15d",
   "metadata": {},
   "outputs": [
    {
     "data": {
      "text/html": [
       "<div>\n",
       "<style scoped>\n",
       "    .dataframe tbody tr th:only-of-type {\n",
       "        vertical-align: middle;\n",
       "    }\n",
       "\n",
       "    .dataframe tbody tr th {\n",
       "        vertical-align: top;\n",
       "    }\n",
       "\n",
       "    .dataframe thead th {\n",
       "        text-align: right;\n",
       "    }\n",
       "</style>\n",
       "<table border=\"1\" class=\"dataframe\">\n",
       "  <thead>\n",
       "    <tr style=\"text-align: right;\">\n",
       "      <th></th>\n",
       "      <th>age</th>\n",
       "      <th>sex</th>\n",
       "      <th>bmi</th>\n",
       "      <th>children</th>\n",
       "      <th>smoker</th>\n",
       "      <th>charges</th>\n",
       "      <th>region_northeast</th>\n",
       "      <th>region_northwest</th>\n",
       "      <th>region_southeast</th>\n",
       "      <th>region_southwest</th>\n",
       "    </tr>\n",
       "  </thead>\n",
       "  <tbody>\n",
       "    <tr>\n",
       "      <th>0</th>\n",
       "      <td>19</td>\n",
       "      <td>0</td>\n",
       "      <td>27.900</td>\n",
       "      <td>0</td>\n",
       "      <td>1</td>\n",
       "      <td>16884.92400</td>\n",
       "      <td>0</td>\n",
       "      <td>0</td>\n",
       "      <td>0</td>\n",
       "      <td>1</td>\n",
       "    </tr>\n",
       "    <tr>\n",
       "      <th>1</th>\n",
       "      <td>18</td>\n",
       "      <td>1</td>\n",
       "      <td>33.770</td>\n",
       "      <td>1</td>\n",
       "      <td>0</td>\n",
       "      <td>1725.55230</td>\n",
       "      <td>0</td>\n",
       "      <td>0</td>\n",
       "      <td>1</td>\n",
       "      <td>0</td>\n",
       "    </tr>\n",
       "    <tr>\n",
       "      <th>2</th>\n",
       "      <td>28</td>\n",
       "      <td>1</td>\n",
       "      <td>33.000</td>\n",
       "      <td>3</td>\n",
       "      <td>0</td>\n",
       "      <td>4449.46200</td>\n",
       "      <td>0</td>\n",
       "      <td>0</td>\n",
       "      <td>1</td>\n",
       "      <td>0</td>\n",
       "    </tr>\n",
       "    <tr>\n",
       "      <th>3</th>\n",
       "      <td>33</td>\n",
       "      <td>1</td>\n",
       "      <td>22.705</td>\n",
       "      <td>0</td>\n",
       "      <td>0</td>\n",
       "      <td>21984.47061</td>\n",
       "      <td>0</td>\n",
       "      <td>1</td>\n",
       "      <td>0</td>\n",
       "      <td>0</td>\n",
       "    </tr>\n",
       "    <tr>\n",
       "      <th>4</th>\n",
       "      <td>32</td>\n",
       "      <td>1</td>\n",
       "      <td>28.880</td>\n",
       "      <td>0</td>\n",
       "      <td>0</td>\n",
       "      <td>3866.85520</td>\n",
       "      <td>0</td>\n",
       "      <td>1</td>\n",
       "      <td>0</td>\n",
       "      <td>0</td>\n",
       "    </tr>\n",
       "  </tbody>\n",
       "</table>\n",
       "</div>"
      ],
      "text/plain": [
       "   age  sex     bmi  children  smoker      charges  region_northeast  \\\n",
       "0   19    0  27.900         0       1  16884.92400                 0   \n",
       "1   18    1  33.770         1       0   1725.55230                 0   \n",
       "2   28    1  33.000         3       0   4449.46200                 0   \n",
       "3   33    1  22.705         0       0  21984.47061                 0   \n",
       "4   32    1  28.880         0       0   3866.85520                 0   \n",
       "\n",
       "   region_northwest  region_southeast  region_southwest  \n",
       "0                 0                 0                 1  \n",
       "1                 0                 1                 0  \n",
       "2                 0                 1                 0  \n",
       "3                 1                 0                 0  \n",
       "4                 1                 0                 0  "
      ]
     },
     "execution_count": 12,
     "metadata": {},
     "output_type": "execute_result"
    }
   ],
   "source": [
    "insurance_codificado.head()"
   ]
  },
  {
   "cell_type": "code",
   "execution_count": 13,
   "id": "212edb3c-0abd-4c45-b9ea-c8e5c3b3f5f6",
   "metadata": {},
   "outputs": [
    {
     "name": "stdout",
     "output_type": "stream",
     "text": [
      "<class 'pandas.core.frame.DataFrame'>\n",
      "RangeIndex: 1338 entries, 0 to 1337\n",
      "Data columns (total 10 columns):\n",
      " #   Column            Non-Null Count  Dtype  \n",
      "---  ------            --------------  -----  \n",
      " 0   age               1338 non-null   int64  \n",
      " 1   sex               1338 non-null   int64  \n",
      " 2   bmi               1338 non-null   float64\n",
      " 3   children          1338 non-null   int64  \n",
      " 4   smoker            1338 non-null   int64  \n",
      " 5   charges           1338 non-null   float64\n",
      " 6   region_northeast  1338 non-null   int64  \n",
      " 7   region_northwest  1338 non-null   int64  \n",
      " 8   region_southeast  1338 non-null   int64  \n",
      " 9   region_southwest  1338 non-null   int64  \n",
      "dtypes: float64(2), int64(8)\n",
      "memory usage: 104.7 KB\n"
     ]
    }
   ],
   "source": [
    "insurance_codificado.info()\n",
    "#Tenemos 1338 registros"
   ]
  },
  {
   "cell_type": "code",
   "execution_count": 14,
   "id": "81dad8da-a3f2-4865-8746-5de4195f3bce",
   "metadata": {},
   "outputs": [
    {
     "data": {
      "text/html": [
       "<div>\n",
       "<style scoped>\n",
       "    .dataframe tbody tr th:only-of-type {\n",
       "        vertical-align: middle;\n",
       "    }\n",
       "\n",
       "    .dataframe tbody tr th {\n",
       "        vertical-align: top;\n",
       "    }\n",
       "\n",
       "    .dataframe thead th {\n",
       "        text-align: right;\n",
       "    }\n",
       "</style>\n",
       "<table border=\"1\" class=\"dataframe\">\n",
       "  <thead>\n",
       "    <tr style=\"text-align: right;\">\n",
       "      <th></th>\n",
       "      <th>age</th>\n",
       "      <th>sex</th>\n",
       "      <th>bmi</th>\n",
       "      <th>children</th>\n",
       "      <th>smoker</th>\n",
       "      <th>charges</th>\n",
       "      <th>region_northeast</th>\n",
       "      <th>region_northwest</th>\n",
       "      <th>region_southeast</th>\n",
       "      <th>region_southwest</th>\n",
       "    </tr>\n",
       "  </thead>\n",
       "  <tbody>\n",
       "    <tr>\n",
       "      <th>count</th>\n",
       "      <td>1338.000000</td>\n",
       "      <td>1338.000000</td>\n",
       "      <td>1338.000000</td>\n",
       "      <td>1338.000000</td>\n",
       "      <td>1338.000000</td>\n",
       "      <td>1338.000000</td>\n",
       "      <td>1338.000000</td>\n",
       "      <td>1338.000000</td>\n",
       "      <td>1338.000000</td>\n",
       "      <td>1338.000000</td>\n",
       "    </tr>\n",
       "    <tr>\n",
       "      <th>mean</th>\n",
       "      <td>39.207025</td>\n",
       "      <td>0.505232</td>\n",
       "      <td>30.663397</td>\n",
       "      <td>1.094918</td>\n",
       "      <td>0.204783</td>\n",
       "      <td>13270.422265</td>\n",
       "      <td>0.242152</td>\n",
       "      <td>0.242900</td>\n",
       "      <td>0.272048</td>\n",
       "      <td>0.242900</td>\n",
       "    </tr>\n",
       "    <tr>\n",
       "      <th>std</th>\n",
       "      <td>14.049960</td>\n",
       "      <td>0.500160</td>\n",
       "      <td>6.098187</td>\n",
       "      <td>1.205493</td>\n",
       "      <td>0.403694</td>\n",
       "      <td>12110.011237</td>\n",
       "      <td>0.428546</td>\n",
       "      <td>0.428995</td>\n",
       "      <td>0.445181</td>\n",
       "      <td>0.428995</td>\n",
       "    </tr>\n",
       "    <tr>\n",
       "      <th>min</th>\n",
       "      <td>18.000000</td>\n",
       "      <td>0.000000</td>\n",
       "      <td>15.960000</td>\n",
       "      <td>0.000000</td>\n",
       "      <td>0.000000</td>\n",
       "      <td>1121.873900</td>\n",
       "      <td>0.000000</td>\n",
       "      <td>0.000000</td>\n",
       "      <td>0.000000</td>\n",
       "      <td>0.000000</td>\n",
       "    </tr>\n",
       "    <tr>\n",
       "      <th>25%</th>\n",
       "      <td>27.000000</td>\n",
       "      <td>0.000000</td>\n",
       "      <td>26.296250</td>\n",
       "      <td>0.000000</td>\n",
       "      <td>0.000000</td>\n",
       "      <td>4740.287150</td>\n",
       "      <td>0.000000</td>\n",
       "      <td>0.000000</td>\n",
       "      <td>0.000000</td>\n",
       "      <td>0.000000</td>\n",
       "    </tr>\n",
       "    <tr>\n",
       "      <th>50%</th>\n",
       "      <td>39.000000</td>\n",
       "      <td>1.000000</td>\n",
       "      <td>30.400000</td>\n",
       "      <td>1.000000</td>\n",
       "      <td>0.000000</td>\n",
       "      <td>9382.033000</td>\n",
       "      <td>0.000000</td>\n",
       "      <td>0.000000</td>\n",
       "      <td>0.000000</td>\n",
       "      <td>0.000000</td>\n",
       "    </tr>\n",
       "    <tr>\n",
       "      <th>75%</th>\n",
       "      <td>51.000000</td>\n",
       "      <td>1.000000</td>\n",
       "      <td>34.693750</td>\n",
       "      <td>2.000000</td>\n",
       "      <td>0.000000</td>\n",
       "      <td>16639.912515</td>\n",
       "      <td>0.000000</td>\n",
       "      <td>0.000000</td>\n",
       "      <td>1.000000</td>\n",
       "      <td>0.000000</td>\n",
       "    </tr>\n",
       "    <tr>\n",
       "      <th>max</th>\n",
       "      <td>64.000000</td>\n",
       "      <td>1.000000</td>\n",
       "      <td>53.130000</td>\n",
       "      <td>5.000000</td>\n",
       "      <td>1.000000</td>\n",
       "      <td>63770.428010</td>\n",
       "      <td>1.000000</td>\n",
       "      <td>1.000000</td>\n",
       "      <td>1.000000</td>\n",
       "      <td>1.000000</td>\n",
       "    </tr>\n",
       "  </tbody>\n",
       "</table>\n",
       "</div>"
      ],
      "text/plain": [
       "               age          sex          bmi     children       smoker  \\\n",
       "count  1338.000000  1338.000000  1338.000000  1338.000000  1338.000000   \n",
       "mean     39.207025     0.505232    30.663397     1.094918     0.204783   \n",
       "std      14.049960     0.500160     6.098187     1.205493     0.403694   \n",
       "min      18.000000     0.000000    15.960000     0.000000     0.000000   \n",
       "25%      27.000000     0.000000    26.296250     0.000000     0.000000   \n",
       "50%      39.000000     1.000000    30.400000     1.000000     0.000000   \n",
       "75%      51.000000     1.000000    34.693750     2.000000     0.000000   \n",
       "max      64.000000     1.000000    53.130000     5.000000     1.000000   \n",
       "\n",
       "            charges  region_northeast  region_northwest  region_southeast  \\\n",
       "count   1338.000000       1338.000000       1338.000000       1338.000000   \n",
       "mean   13270.422265          0.242152          0.242900          0.272048   \n",
       "std    12110.011237          0.428546          0.428995          0.445181   \n",
       "min     1121.873900          0.000000          0.000000          0.000000   \n",
       "25%     4740.287150          0.000000          0.000000          0.000000   \n",
       "50%     9382.033000          0.000000          0.000000          0.000000   \n",
       "75%    16639.912515          0.000000          0.000000          1.000000   \n",
       "max    63770.428010          1.000000          1.000000          1.000000   \n",
       "\n",
       "       region_southwest  \n",
       "count       1338.000000  \n",
       "mean           0.242900  \n",
       "std            0.428995  \n",
       "min            0.000000  \n",
       "25%            0.000000  \n",
       "50%            0.000000  \n",
       "75%            0.000000  \n",
       "max            1.000000  "
      ]
     },
     "execution_count": 14,
     "metadata": {},
     "output_type": "execute_result"
    }
   ],
   "source": [
    "insurance_codificado.describe()"
   ]
  },
  {
   "cell_type": "markdown",
   "id": "cd6f9f7a-5984-4b27-a1e7-af69c80af5dc",
   "metadata": {},
   "source": [
    "<h1>Análisis exploratorio</h1>"
   ]
  },
  {
   "cell_type": "code",
   "execution_count": 15,
   "id": "ebdbcf50-3550-4c30-b130-3d5e391eadf6",
   "metadata": {},
   "outputs": [],
   "source": [
    "import matplotlib.pyplot as plt"
   ]
  },
  {
   "cell_type": "markdown",
   "id": "a5f44c19-e481-4a85-b7d9-5a7e1d5efff8",
   "metadata": {},
   "source": [
    "<h1>Distribucion de edad</h1>"
   ]
  },
  {
   "cell_type": "code",
   "execution_count": 16,
   "id": "fe915983-7656-47d7-a4b4-92eae0587f90",
   "metadata": {},
   "outputs": [
    {
     "data": {
      "image/png": "[encoded data removed]",
      "text/plain": [
       "<Figure size 800x600 with 1 Axes>"
      ]
     },
     "metadata": {},
     "output_type": "display_data"
    }
   ],
   "source": [
    "# Visualizar la distribución de las edades\n",
    "plt.figure(figsize=(8, 6))\n",
    "plt.hist(insurance_codificado['age'], bins=20, color='skyblue', edgecolor='black')\n",
    "plt.title('Distribución de las edades de los asegurados')\n",
    "plt.xlabel('Edad')\n",
    "plt.ylabel('Frecuencia')\n",
    "plt.grid(True)\n",
    "plt.show()"
   ]
  },
  {
   "cell_type": "markdown",
   "id": "01f6cd81-d9a1-4c87-84ed-1726f2e9b106",
   "metadata": {},
   "source": [
    "<h1>Distirbucion de sexo</h1>"
   ]
  },
  {
   "cell_type": "code",
   "execution_count": 17,
   "id": "bfcf56b1-6ea0-4ea4-abf4-fc57602d872b",
   "metadata": {},
   "outputs": [
    {
     "data": {
      "image/png": "[encoded data removed]",
      "text/plain": [
       "<Figure size 800x600 with 1 Axes>"
      ]
     },
     "metadata": {},
     "output_type": "display_data"
    }
   ],
   "source": [
    "# Visualizar la distribución de las edades\n",
    "# Definir los valores y etiquetas en el eje x\n",
    "x_values = [0, 1]  # Los valores de sexo codificados (0 para female, 1 para male)\n",
    "x_labels = ['female', 'male']  # Etiquetas\n",
    "\n",
    "plt.figure(figsize=(8, 6))\n",
    "plt.hist(insurance_codificado['sex'], bins=20, color='skyblue', edgecolor='black')\n",
    "plt.title('Distribución sexo de los asegurados')\n",
    "plt.xlabel('Sexo')\n",
    "plt.ylabel('Frecuencia')\n",
    "plt.xticks(x_values, x_labels)  # Establecer los valores y etiquetas en x\n",
    "plt.grid(True)\n",
    "plt.show()"
   ]
  },
  {
   "cell_type": "markdown",
   "id": "8f7ad26f-5ab5-4d21-837a-904d9526ecbb",
   "metadata": {},
   "source": [
    "<h1>Relacion entre variables y precio</h1>"
   ]
  },
  {
   "cell_type": "markdown",
   "id": "9555db68-17b7-4ac5-8f2a-f7b197041e2d",
   "metadata": {},
   "source": [
    "<h1>Relación entre la edad y los cargos del seguro</h1>"
   ]
  },
  {
   "cell_type": "code",
   "execution_count": 18,
   "id": "2048b679-eaab-40a0-9f82-282e51b9185f",
   "metadata": {},
   "outputs": [
    {
     "data": {
      "image/png": "[encoded data removed]",
      "text/plain": [
       "<Figure size 800x600 with 1 Axes>"
      ]
     },
     "metadata": {},
     "output_type": "display_data"
    }
   ],
   "source": [
    "plt.figure(figsize=(8, 6))\n",
    "plt.scatter(insurance_codificado['age'], insurance_codificado['charges'], color='skyblue', alpha=0.6)\n",
    "plt.title('Relación entre la Edad y los Cargos del Seguro')\n",
    "plt.xlabel('Edad')\n",
    "plt.ylabel('Cargos del Seguro')\n",
    "plt.grid(True)\n",
    "plt.show()"
   ]
  },
  {
   "cell_type": "markdown",
   "id": "f9d7296f-6361-4df1-8bb7-10cb259a5d18",
   "metadata": {},
   "source": [
    "<h1>Relación entre el número de hijos y los cargos del seguro</h1>"
   ]
  },
  {
   "cell_type": "code",
   "execution_count": 19,
   "id": "3e48e314-4aee-4349-be05-c374773093a5",
   "metadata": {},
   "outputs": [
    {
     "data": {
      "image/png": "[encoded data removed]",
      "text/plain": [
       "<Figure size 800x600 with 1 Axes>"
      ]
     },
     "metadata": {},
     "output_type": "display_data"
    }
   ],
   "source": [
    "# Contar la cantidad de observaciones para cada categoría de cantidad de hijos\n",
    "counts = insurance_codificado['children'].value_counts()\n",
    "\n",
    "# Crear un gráfico de pastel para mostrar la proporción de cada categoría de cantidad de hijos\n",
    "plt.figure(figsize=(8, 6))\n",
    "plt.pie(counts, labels=counts.index, autopct='%1.1f%%', colors=['skyblue', 'salmon', 'lightgreen', 'lightcoral', 'lightskyblue'])\n",
    "plt.title('Proporción de Cantidad de Hijos en el Conjunto de Datos')\n",
    "plt.show()"
   ]
  },
  {
   "cell_type": "code",
   "execution_count": 20,
   "id": "03420e03-1624-4695-b975-d32cc77d07d2",
   "metadata": {},
   "outputs": [
    {
     "data": {
      "image/png": "[encoded data removed]",
      "text/plain": [
       "<Figure size 1000x600 with 1 Axes>"
      ]
     },
     "metadata": {},
     "output_type": "display_data"
    }
   ],
   "source": [
    "# Calcular la media de los cargos del seguro para cada cantidad de hijos\n",
    "mean_charges_by_children = insurance_codificado.groupby('children')['charges'].mean()\n",
    "\n",
    "# Crear el gráfico de barras para mostrar la media de los cargos del seguro por cantidad de hijos\n",
    "plt.figure(figsize=(10, 6))\n",
    "mean_charges_by_children.plot(kind='bar', color='skyblue')\n",
    "plt.title('Media de Cargos del Seguro por Cantidad de Hijos')\n",
    "plt.xlabel('Cantidad de Hijos')\n",
    "plt.ylabel('Media de Cargos del Seguro')\n",
    "plt.xticks(rotation=0)\n",
    "plt.grid(axis='y')\n",
    "plt.show()"
   ]
  },
  {
   "cell_type": "markdown",
   "id": "f70e0c61-9e56-4bdf-9459-058113397f87",
   "metadata": {},
   "source": [
    "<h1>Relacion de precio conforme al sexo</h1>"
   ]
  },
  {
   "cell_type": "code",
   "execution_count": 21,
   "id": "f7b7cf31-dc27-4046-8866-984cf7a0b836",
   "metadata": {},
   "outputs": [
    {
     "data": {
      "image/png": "[encoded data removed]",
      "text/plain": [
       "<Figure size 800x600 with 1 Axes>"
      ]
     },
     "metadata": {},
     "output_type": "display_data"
    }
   ],
   "source": [
    "# Calcular la media de los cargos del seguro para cada sexo\n",
    "mean_charges_by_sex = insurance_codificado.groupby('sex')['charges'].mean()\n",
    "\n",
    "# Crear el gráfico de barras para comparar la media de cargos entre hombres y mujeres\n",
    "plt.figure(figsize=(8, 6))\n",
    "mean_charges_by_sex.plot(kind='bar', color=['skyblue', 'salmon'])\n",
    "plt.title('Media de Cargos del Seguro por Sexo')\n",
    "plt.xlabel('Sexo')\n",
    "plt.ylabel('Media de Cargos del Seguro')\n",
    "plt.xticks([0, 1], ['Female', 'Male'], rotation=0)  # Etiquetas personalizadas para los valores de sexo\n",
    "plt.grid(axis='y')\n",
    "plt.show()"
   ]
  },
  {
   "cell_type": "markdown",
   "id": "e122224c-81e9-4413-b9f2-235ae1445c6c",
   "metadata": {},
   "source": [
    "<h1> Relacion con precio con hábito de fumar</h1>"
   ]
  },
  {
   "cell_type": "code",
   "execution_count": 22,
   "id": "65373c79-5b6f-4c86-8038-4b8b6ceb18dd",
   "metadata": {},
   "outputs": [
    {
     "data": {
      "image/png": "[encoded data removed]",
      "text/plain": [
       "<Figure size 1000x600 with 1 Axes>"
      ]
     },
     "metadata": {},
     "output_type": "display_data"
    }
   ],
   "source": [
    "\n",
    "\n",
    "# Filtrar los datos para fumadores y no fumadores\n",
    "fumadores = insurance_codificado[insurance_codificado['smoker'] == 1]\n",
    "no_fumadores = insurance_codificado[insurance_codificado['smoker'] == 0]\n",
    "\n",
    "# Crear los histogramas para comparar los cargos del seguro entre fumadores y no fumadores\n",
    "plt.figure(figsize=(10, 6))\n",
    "plt.hist(fumadores['charges'], bins=30, color='skyblue', alpha=0.7, label='Fumadores')\n",
    "plt.hist(no_fumadores['charges'], bins=30, color='salmon', alpha=0.7, label='No Fumadores')\n",
    "plt.title('Distribución de Cargos del Seguro por Hábito de Fumar')\n",
    "plt.xlabel('Cargos del Seguro')\n",
    "plt.ylabel('Frecuencia')\n",
    "plt.legend()\n",
    "plt.grid(True)\n",
    "plt.show()"
   ]
  },
  {
   "cell_type": "markdown",
   "id": "e5ce0267-36f3-4705-9413-8d06f28c6e5a",
   "metadata": {},
   "source": [
    "<h1>Seleccionar la variable objetivo y caracteristicas.</h1>"
   ]
  },
  {
   "cell_type": "code",
   "execution_count": 46,
   "id": "b23ece7f-39d4-4a69-a4bd-cdee2a784249",
   "metadata": {},
   "outputs": [
    {
     "data": {
      "text/plain": [
       "Index(['age', 'sex', 'bmi', 'children', 'smoker', 'charges',\n",
       "       'region_northeast', 'region_northwest', 'region_southeast',\n",
       "       'region_southwest'],\n",
       "      dtype='object')"
      ]
     },
     "execution_count": 46,
     "metadata": {},
     "output_type": "execute_result"
    }
   ],
   "source": [
    "# Obtener las columnas del DataFrame\n",
    "insurance_codificado.columns"
   ]
  },
  {
   "cell_type": "code",
   "execution_count": 47,
   "id": "aff0c478-4897-4612-a812-ccb76ceda561",
   "metadata": {},
   "outputs": [],
   "source": [
    "# Variable objetivo es charges\n",
    "\n",
    "# Definir la variable objetivo (y) y las características (X)\n",
    "y = insurance_codificado['charges']\n"
   ]
  },
  {
   "cell_type": "code",
   "execution_count": 48,
   "id": "e8e52cc7-3e93-4d6e-99b5-0481eee21fa4",
   "metadata": {},
   "outputs": [],
   "source": [
    "# Las columnas restantes seran las caracterisicas (features)\n",
    "\n",
    "X = insurance_codificado.drop(['charges'],axis=1)"
   ]
  },
  {
   "cell_type": "markdown",
   "id": "47eb4297-0bb5-447f-a787-cf644bdff0bf",
   "metadata": {},
   "source": [
    "<h1>División de datos para test y entrenamiento</h1>"
   ]
  },
  {
   "cell_type": "code",
   "execution_count": 49,
   "id": "6846a2a8-fde9-42a6-825c-22c31d37d099",
   "metadata": {},
   "outputs": [],
   "source": [
    "from sklearn.model_selection import train_test_split\n",
    "X_train, X_test, y_train, y_test = train_test_split(X,y, train_size=0.7, random_state=2529)\n"
   ]
  },
  {
   "cell_type": "code",
   "execution_count": 50,
   "id": "5bc6bf07-4a54-4b4f-852d-a46f3a6702a2",
   "metadata": {},
   "outputs": [
    {
     "data": {
      "text/plain": [
       "((936, 9), (402, 9), (936,), (402,))"
      ]
     },
     "execution_count": 50,
     "metadata": {},
     "output_type": "execute_result"
    }
   ],
   "source": [
    "#Vemos como estan distribuidos los datos.\n",
    "\n",
    "X_train.shape, X_test.shape, y_train.shape, y_test.shape"
   ]
  },
  {
   "cell_type": "markdown",
   "id": "de3a8c82-7d86-40ed-9029-3bb4acb20ee4",
   "metadata": {},
   "source": [
    "<h1>Normalizar</h1>"
   ]
  },
  {
   "cell_type": "code",
   "execution_count": 51,
   "id": "307b1677-cb07-4f0b-bb5b-83fbc721a380",
   "metadata": {},
   "outputs": [],
   "source": [
    "from sklearn.preprocessing import StandardScaler\n",
    "\n",
    "scaler = StandardScaler()\n",
    "X_train_scaled = scaler.fit_transform(X_train)\n",
    "X_test_scaled = scaler.transform(X_test)"
   ]
  },
  {
   "cell_type": "markdown",
   "id": "2c2db1bb-bf87-4180-ab19-fe58e07e397d",
   "metadata": {},
   "source": [
    "<h1>Seleccionamos modelo</h1>"
   ]
  },
  {
   "cell_type": "code",
   "execution_count": 52,
   "id": "adffa8ef-72b2-4091-9aea-4df3078520c1",
   "metadata": {},
   "outputs": [],
   "source": [
    "from sklearn.linear_model import LinearRegression\n",
    "model = LinearRegression()"
   ]
  },
  {
   "cell_type": "markdown",
   "id": "457aad6d-5de5-41df-9d81-d62546cbae0b",
   "metadata": {},
   "source": [
    "<h1>Entrenar modelo</h1>"
   ]
  },
  {
   "cell_type": "code",
   "execution_count": 53,
   "id": "c1869db0-4133-43f4-abfe-0f341d0ca138",
   "metadata": {},
   "outputs": [
    {
     "data": {
      "text/html": [
       "<style>#sk-container-id-2 {\n",
       "  /* Definition of color scheme common for light and dark mode */\n",
       "  --sklearn-color-text: black;\n",
       "  --sklearn-color-line: gray;\n",
       "  /* Definition of color scheme for unfitted estimators */\n",
       "  --sklearn-color-unfitted-level-0: #fff5e6;\n",
       "  --sklearn-color-unfitted-level-1: #f6e4d2;\n",
       "  --sklearn-color-unfitted-level-2: #ffe0b3;\n",
       "  --sklearn-color-unfitted-level-3: chocolate;\n",
       "  /* Definition of color scheme for fitted estimators */\n",
       "  --sklearn-color-fitted-level-0: #f0f8ff;\n",
       "  --sklearn-color-fitted-level-1: #d4ebff;\n",
       "  --sklearn-color-fitted-level-2: #b3dbfd;\n",
       "  --sklearn-color-fitted-level-3: cornflowerblue;\n",
       "\n",
       "  /* Specific color for light theme */\n",
       "  --sklearn-color-text-on-default-background: var(--sg-text-color, var(--theme-code-foreground, var(--jp-content-font-color1, black)));\n",
       "  --sklearn-color-background: var(--sg-background-color, var(--theme-background, var(--jp-layout-color0, white)));\n",
       "  --sklearn-color-border-box: var(--sg-text-color, var(--theme-code-foreground, var(--jp-content-font-color1, black)));\n",
       "  --sklearn-color-icon: #696969;\n",
       "\n",
       "  @media (prefers-color-scheme: dark) {\n",
       "    /* Redefinition of color scheme for dark theme */\n",
       "    --sklearn-color-text-on-default-background: var(--sg-text-color, var(--theme-code-foreground, var(--jp-content-font-color1, white)));\n",
       "    --sklearn-color-background: var(--sg-background-color, var(--theme-background, var(--jp-layout-color0, #111)));\n",
       "    --sklearn-color-border-box: var(--sg-text-color, var(--theme-code-foreground, var(--jp-content-font-color1, white)));\n",
       "    --sklearn-color-icon: #878787;\n",
       "  }\n",
       "}\n",
       "\n",
       "#sk-container-id-2 {\n",
       "  color: var(--sklearn-color-text);\n",
       "}\n",
       "\n",
       "#sk-container-id-2 pre {\n",
       "  padding: 0;\n",
       "}\n",
       "\n",
       "#sk-container-id-2 input.sk-hidden--visually {\n",
       "  border: 0;\n",
       "  clip: rect(1px 1px 1px 1px);\n",
       "  clip: rect(1px, 1px, 1px, 1px);\n",
       "  height: 1px;\n",
       "  margin: -1px;\n",
       "  overflow: hidden;\n",
       "  padding: 0;\n",
       "  position: absolute;\n",
       "  width: 1px;\n",
       "}\n",
       "\n",
       "#sk-container-id-2 div.sk-dashed-wrapped {\n",
       "  border: 1px dashed var(--sklearn-color-line);\n",
       "  margin: 0 0.4em 0.5em 0.4em;\n",
       "  box-sizing: border-box;\n",
       "  padding-bottom: 0.4em;\n",
       "  background-color: var(--sklearn-color-background);\n",
       "}\n",
       "\n",
       "#sk-container-id-2 div.sk-container {\n",
       "  /* jupyter's `normalize.less` sets `[hidden] { display: none; }`\n",
       "     but bootstrap.min.css set `[hidden] { display: none !important; }`\n",
       "     so we also need the `!important` here to be able to override the\n",
       "     default hidden behavior on the sphinx rendered scikit-learn.org.\n",
       "     See: https://github.com/scikit-learn/scikit-learn/issues/21755 */\n",
       "  display: inline-block !important;\n",
       "  position: relative;\n",
       "}\n",
       "\n",
       "#sk-container-id-2 div.sk-text-repr-fallback {\n",
       "  display: none;\n",
       "}\n",
       "\n",
       "div.sk-parallel-item,\n",
       "div.sk-serial,\n",
       "div.sk-item {\n",
       "  /* draw centered vertical line to link estimators */\n",
       "  background-image: linear-gradient(var(--sklearn-color-text-on-default-background), var(--sklearn-color-text-on-default-background));\n",
       "  background-size: 2px 100%;\n",
       "  background-repeat: no-repeat;\n",
       "  background-position: center center;\n",
       "}\n",
       "\n",
       "/* Parallel-specific style estimator block */\n",
       "\n",
       "#sk-container-id-2 div.sk-parallel-item::after {\n",
       "  content: \"\";\n",
       "  width: 100%;\n",
       "  border-bottom: 2px solid var(--sklearn-color-text-on-default-background);\n",
       "  flex-grow: 1;\n",
       "}\n",
       "\n",
       "#sk-container-id-2 div.sk-parallel {\n",
       "  display: flex;\n",
       "  align-items: stretch;\n",
       "  justify-content: center;\n",
       "  background-color: var(--sklearn-color-background);\n",
       "  position: relative;\n",
       "}\n",
       "\n",
       "#sk-container-id-2 div.sk-parallel-item {\n",
       "  display: flex;\n",
       "  flex-direction: column;\n",
       "}\n",
       "\n",
       "#sk-container-id-2 div.sk-parallel-item:first-child::after {\n",
       "  align-self: flex-end;\n",
       "  width: 50%;\n",
       "}\n",
       "\n",
       "#sk-container-id-2 div.sk-parallel-item:last-child::after {\n",
       "  align-self: flex-start;\n",
       "  width: 50%;\n",
       "}\n",
       "\n",
       "#sk-container-id-2 div.sk-parallel-item:only-child::after {\n",
       "  width: 0;\n",
       "}\n",
       "\n",
       "/* Serial-specific style estimator block */\n",
       "\n",
       "#sk-container-id-2 div.sk-serial {\n",
       "  display: flex;\n",
       "  flex-direction: column;\n",
       "  align-items: center;\n",
       "  background-color: var(--sklearn-color-background);\n",
       "  padding-right: 1em;\n",
       "  padding-left: 1em;\n",
       "}\n",
       "\n",
       "\n",
       "/* Toggleable style: style used for estimator/Pipeline/ColumnTransformer box that is\n",
       "clickable and can be expanded/collapsed.\n",
       "- Pipeline and ColumnTransformer use this feature and define the default style\n",
       "- Estimators will overwrite some part of the style using the `sk-estimator` class\n",
       "*/\n",
       "\n",
       "/* Pipeline and ColumnTransformer style (default) */\n",
       "\n",
       "#sk-container-id-2 div.sk-toggleable {\n",
       "  /* Default theme specific background. It is overwritten whether we have a\n",
       "  specific estimator or a Pipeline/ColumnTransformer */\n",
       "  background-color: var(--sklearn-color-background);\n",
       "}\n",
       "\n",
       "/* Toggleable label */\n",
       "#sk-container-id-2 label.sk-toggleable__label {\n",
       "  cursor: pointer;\n",
       "  display: block;\n",
       "  width: 100%;\n",
       "  margin-bottom: 0;\n",
       "  padding: 0.5em;\n",
       "  box-sizing: border-box;\n",
       "  text-align: center;\n",
       "}\n",
       "\n",
       "#sk-container-id-2 label.sk-toggleable__label-arrow:before {\n",
       "  /* Arrow on the left of the label */\n",
       "  content: \"▸\";\n",
       "  float: left;\n",
       "  margin-right: 0.25em;\n",
       "  color: var(--sklearn-color-icon);\n",
       "}\n",
       "\n",
       "#sk-container-id-2 label.sk-toggleable__label-arrow:hover:before {\n",
       "  color: var(--sklearn-color-text);\n",
       "}\n",
       "\n",
       "/* Toggleable content - dropdown */\n",
       "\n",
       "#sk-container-id-2 div.sk-toggleable__content {\n",
       "  max-height: 0;\n",
       "  max-width: 0;\n",
       "  overflow: hidden;\n",
       "  text-align: left;\n",
       "  /* unfitted */\n",
       "  background-color: var(--sklearn-color-unfitted-level-0);\n",
       "}\n",
       "\n",
       "#sk-container-id-2 div.sk-toggleable__content.fitted {\n",
       "  /* fitted */\n",
       "  background-color: var(--sklearn-color-fitted-level-0);\n",
       "}\n",
       "\n",
       "#sk-container-id-2 div.sk-toggleable__content pre {\n",
       "  margin: 0.2em;\n",
       "  border-radius: 0.25em;\n",
       "  color: var(--sklearn-color-text);\n",
       "  /* unfitted */\n",
       "  background-color: var(--sklearn-color-unfitted-level-0);\n",
       "}\n",
       "\n",
       "#sk-container-id-2 div.sk-toggleable__content.fitted pre {\n",
       "  /* unfitted */\n",
       "  background-color: var(--sklearn-color-fitted-level-0);\n",
       "}\n",
       "\n",
       "#sk-container-id-2 input.sk-toggleable__control:checked~div.sk-toggleable__content {\n",
       "  /* Expand drop-down */\n",
       "  max-height: 200px;\n",
       "  max-width: 100%;\n",
       "  overflow: auto;\n",
       "}\n",
       "\n",
       "#sk-container-id-2 input.sk-toggleable__control:checked~label.sk-toggleable__label-arrow:before {\n",
       "  content: \"▾\";\n",
       "}\n",
       "\n",
       "/* Pipeline/ColumnTransformer-specific style */\n",
       "\n",
       "#sk-container-id-2 div.sk-label input.sk-toggleable__control:checked~label.sk-toggleable__label {\n",
       "  color: var(--sklearn-color-text);\n",
       "  background-color: var(--sklearn-color-unfitted-level-2);\n",
       "}\n",
       "\n",
       "#sk-container-id-2 div.sk-label.fitted input.sk-toggleable__control:checked~label.sk-toggleable__label {\n",
       "  background-color: var(--sklearn-color-fitted-level-2);\n",
       "}\n",
       "\n",
       "/* Estimator-specific style */\n",
       "\n",
       "/* Colorize estimator box */\n",
       "#sk-container-id-2 div.sk-estimator input.sk-toggleable__control:checked~label.sk-toggleable__label {\n",
       "  /* unfitted */\n",
       "  background-color: var(--sklearn-color-unfitted-level-2);\n",
       "}\n",
       "\n",
       "#sk-container-id-2 div.sk-estimator.fitted input.sk-toggleable__control:checked~label.sk-toggleable__label {\n",
       "  /* fitted */\n",
       "  background-color: var(--sklearn-color-fitted-level-2);\n",
       "}\n",
       "\n",
       "#sk-container-id-2 div.sk-label label.sk-toggleable__label,\n",
       "#sk-container-id-2 div.sk-label label {\n",
       "  /* The background is the default theme color */\n",
       "  color: var(--sklearn-color-text-on-default-background);\n",
       "}\n",
       "\n",
       "/* On hover, darken the color of the background */\n",
       "#sk-container-id-2 div.sk-label:hover label.sk-toggleable__label {\n",
       "  color: var(--sklearn-color-text);\n",
       "  background-color: var(--sklearn-color-unfitted-level-2);\n",
       "}\n",
       "\n",
       "/* Label box, darken color on hover, fitted */\n",
       "#sk-container-id-2 div.sk-label.fitted:hover label.sk-toggleable__label.fitted {\n",
       "  color: var(--sklearn-color-text);\n",
       "  background-color: var(--sklearn-color-fitted-level-2);\n",
       "}\n",
       "\n",
       "/* Estimator label */\n",
       "\n",
       "#sk-container-id-2 div.sk-label label {\n",
       "  font-family: monospace;\n",
       "  font-weight: bold;\n",
       "  display: inline-block;\n",
       "  line-height: 1.2em;\n",
       "}\n",
       "\n",
       "#sk-container-id-2 div.sk-label-container {\n",
       "  text-align: center;\n",
       "}\n",
       "\n",
       "/* Estimator-specific */\n",
       "#sk-container-id-2 div.sk-estimator {\n",
       "  font-family: monospace;\n",
       "  border: 1px dotted var(--sklearn-color-border-box);\n",
       "  border-radius: 0.25em;\n",
       "  box-sizing: border-box;\n",
       "  margin-bottom: 0.5em;\n",
       "  /* unfitted */\n",
       "  background-color: var(--sklearn-color-unfitted-level-0);\n",
       "}\n",
       "\n",
       "#sk-container-id-2 div.sk-estimator.fitted {\n",
       "  /* fitted */\n",
       "  background-color: var(--sklearn-color-fitted-level-0);\n",
       "}\n",
       "\n",
       "/* on hover */\n",
       "#sk-container-id-2 div.sk-estimator:hover {\n",
       "  /* unfitted */\n",
       "  background-color: var(--sklearn-color-unfitted-level-2);\n",
       "}\n",
       "\n",
       "#sk-container-id-2 div.sk-estimator.fitted:hover {\n",
       "  /* fitted */\n",
       "  background-color: var(--sklearn-color-fitted-level-2);\n",
       "}\n",
       "\n",
       "/* Specification for estimator info (e.g. \"i\" and \"?\") */\n",
       "\n",
       "/* Common style for \"i\" and \"?\" */\n",
       "\n",
       ".sk-estimator-doc-link,\n",
       "a:link.sk-estimator-doc-link,\n",
       "a:visited.sk-estimator-doc-link {\n",
       "  float: right;\n",
       "  font-size: smaller;\n",
       "  line-height: 1em;\n",
       "  font-family: monospace;\n",
       "  background-color: var(--sklearn-color-background);\n",
       "  border-radius: 1em;\n",
       "  height: 1em;\n",
       "  width: 1em;\n",
       "  text-decoration: none !important;\n",
       "  margin-left: 1ex;\n",
       "  /* unfitted */\n",
       "  border: var(--sklearn-color-unfitted-level-1) 1pt solid;\n",
       "  color: var(--sklearn-color-unfitted-level-1);\n",
       "}\n",
       "\n",
       ".sk-estimator-doc-link.fitted,\n",
       "a:link.sk-estimator-doc-link.fitted,\n",
       "a:visited.sk-estimator-doc-link.fitted {\n",
       "  /* fitted */\n",
       "  border: var(--sklearn-color-fitted-level-1) 1pt solid;\n",
       "  color: var(--sklearn-color-fitted-level-1);\n",
       "}\n",
       "\n",
       "/* On hover */\n",
       "div.sk-estimator:hover .sk-estimator-doc-link:hover,\n",
       ".sk-estimator-doc-link:hover,\n",
       "div.sk-label-container:hover .sk-estimator-doc-link:hover,\n",
       ".sk-estimator-doc-link:hover {\n",
       "  /* unfitted */\n",
       "  background-color: var(--sklearn-color-unfitted-level-3);\n",
       "  color: var(--sklearn-color-background);\n",
       "  text-decoration: none;\n",
       "}\n",
       "\n",
       "div.sk-estimator.fitted:hover .sk-estimator-doc-link.fitted:hover,\n",
       ".sk-estimator-doc-link.fitted:hover,\n",
       "div.sk-label-container:hover .sk-estimator-doc-link.fitted:hover,\n",
       ".sk-estimator-doc-link.fitted:hover {\n",
       "  /* fitted */\n",
       "  background-color: var(--sklearn-color-fitted-level-3);\n",
       "  color: var(--sklearn-color-background);\n",
       "  text-decoration: none;\n",
       "}\n",
       "\n",
       "/* Span, style for the box shown on hovering the info icon */\n",
       ".sk-estimator-doc-link span {\n",
       "  display: none;\n",
       "  z-index: 9999;\n",
       "  position: relative;\n",
       "  font-weight: normal;\n",
       "  right: .2ex;\n",
       "  padding: .5ex;\n",
       "  margin: .5ex;\n",
       "  width: min-content;\n",
       "  min-width: 20ex;\n",
       "  max-width: 50ex;\n",
       "  color: var(--sklearn-color-text);\n",
       "  box-shadow: 2pt 2pt 4pt #999;\n",
       "  /* unfitted */\n",
       "  background: var(--sklearn-color-unfitted-level-0);\n",
       "  border: .5pt solid var(--sklearn-color-unfitted-level-3);\n",
       "}\n",
       "\n",
       ".sk-estimator-doc-link.fitted span {\n",
       "  /* fitted */\n",
       "  background: var(--sklearn-color-fitted-level-0);\n",
       "  border: var(--sklearn-color-fitted-level-3);\n",
       "}\n",
       "\n",
       ".sk-estimator-doc-link:hover span {\n",
       "  display: block;\n",
       "}\n",
       "\n",
       "/* \"?\"-specific style due to the `<a>` HTML tag */\n",
       "\n",
       "#sk-container-id-2 a.estimator_doc_link {\n",
       "  float: right;\n",
       "  font-size: 1rem;\n",
       "  line-height: 1em;\n",
       "  font-family: monospace;\n",
       "  background-color: var(--sklearn-color-background);\n",
       "  border-radius: 1rem;\n",
       "  height: 1rem;\n",
       "  width: 1rem;\n",
       "  text-decoration: none;\n",
       "  /* unfitted */\n",
       "  color: var(--sklearn-color-unfitted-level-1);\n",
       "  border: var(--sklearn-color-unfitted-level-1) 1pt solid;\n",
       "}\n",
       "\n",
       "#sk-container-id-2 a.estimator_doc_link.fitted {\n",
       "  /* fitted */\n",
       "  border: var(--sklearn-color-fitted-level-1) 1pt solid;\n",
       "  color: var(--sklearn-color-fitted-level-1);\n",
       "}\n",
       "\n",
       "/* On hover */\n",
       "#sk-container-id-2 a.estimator_doc_link:hover {\n",
       "  /* unfitted */\n",
       "  background-color: var(--sklearn-color-unfitted-level-3);\n",
       "  color: var(--sklearn-color-background);\n",
       "  text-decoration: none;\n",
       "}\n",
       "\n",
       "#sk-container-id-2 a.estimator_doc_link.fitted:hover {\n",
       "  /* fitted */\n",
       "  background-color: var(--sklearn-color-fitted-level-3);\n",
       "}\n",
       "</style><div id=\"sk-container-id-2\" class=\"sk-top-container\"><div class=\"sk-text-repr-fallback\"><pre>LinearRegression()</pre><b>In a Jupyter environment, please rerun this cell to show the HTML representation or trust the notebook. <br />On GitHub, the HTML representation is unable to render, please try loading this page with nbviewer.org.</b></div><div class=\"sk-container\" hidden><div class=\"sk-item\"><div class=\"sk-estimator fitted sk-toggleable\"><input class=\"sk-toggleable__control sk-hidden--visually\" id=\"sk-estimator-id-2\" type=\"checkbox\" checked><label for=\"sk-estimator-id-2\" class=\"sk-toggleable__label fitted sk-toggleable__label-arrow fitted\">&nbsp;&nbsp;LinearRegression<a class=\"sk-estimator-doc-link fitted\" rel=\"noreferrer\" target=\"_blank\" href=\"https://scikit-learn.org/1.4/modules/generated/sklearn.linear_model.LinearRegression.html\">?<span>Documentation for LinearRegression</span></a><span class=\"sk-estimator-doc-link fitted\">i<span>Fitted</span></span></label><div class=\"sk-toggleable__content fitted\"><pre>LinearRegression()</pre></div> </div></div></div></div>"
      ],
      "text/plain": [
       "LinearRegression()"
      ]
     },
     "execution_count": 53,
     "metadata": {},
     "output_type": "execute_result"
    }
   ],
   "source": [
    "model.fit(X_train_scaled, y_train)"
   ]
  },
  {
   "cell_type": "code",
   "execution_count": 54,
   "id": "16f88a3e-7b99-43bd-a791-905edabffea8",
   "metadata": {},
   "outputs": [
    {
     "data": {
      "text/plain": [
       "13376.9482811966"
      ]
     },
     "execution_count": 54,
     "metadata": {},
     "output_type": "execute_result"
    }
   ],
   "source": [
    "#Obtenemos interceptos.\n",
    "\n",
    "intercept = model.intercept_\n",
    "intercept"
   ]
  },
  {
   "cell_type": "code",
   "execution_count": 55,
   "id": "763f733d-92d7-4173-bc61-032677dc7ba8",
   "metadata": {},
   "outputs": [
    {
     "data": {
      "text/plain": [
       "array([ 3.61689486e+03, -1.54818533e+01,  2.02774501e+03,  6.04354105e+02,\n",
       "        9.81796253e+03,  1.95104867e+17,  1.96260366e+17,  2.01911185e+17,\n",
       "        1.94811886e+17])"
      ]
     },
     "execution_count": 55,
     "metadata": {},
     "output_type": "execute_result"
    }
   ],
   "source": [
    "#Obtenemos los coeficientes de las caracteristicas\n",
    "\n",
    "coef = model.coef_\n",
    "coef"
   ]
  },
  {
   "cell_type": "markdown",
   "id": "5765708e-2fc3-4f48-8141-7b702961a1f9",
   "metadata": {},
   "source": [
    "<h1>Predecimos con el modelo</h1>"
   ]
  },
  {
   "cell_type": "code",
   "execution_count": 56,
   "id": "6f7e14b5-fda3-487d-ac20-fad73e2e3fe4",
   "metadata": {},
   "outputs": [],
   "source": [
    "y_pred = model.predict(X_test_scaled)"
   ]
  },
  {
   "cell_type": "code",
   "execution_count": 57,
   "id": "899b1baa-3561-40bf-b582-388be4ea6106",
   "metadata": {},
   "outputs": [
    {
     "data": {
      "text/plain": [
       "array([16112.9482812,  5568.9482812,  9824.9482812,  2480.9482812,\n",
       "        5328.9482812, 14272.9482812, 11552.9482812,    64.9482812,\n",
       "        7216.9482812,  3520.9482812, 30256.9482812,  2960.9482812,\n",
       "       11328.9482812,  5376.9482812, 31744.9482812, 37072.9482812,\n",
       "        6720.9482812, 14528.9482812, 11392.9482812, 15536.9482812,\n",
       "        4048.9482812,  3712.9482812,  2144.9482812,  8256.9482812,\n",
       "        5504.9482812, 28976.9482812, 26912.9482812, 30864.9482812,\n",
       "       17264.9482812, 29888.9482812, 39248.9482812,  5520.9482812,\n",
       "       10176.9482812,  6464.9482812, 33408.9482812,  3760.9482812,\n",
       "        8704.9482812, 28752.9482812, 12688.9482812,  6208.9482812,\n",
       "        4864.9482812, 10272.9482812, 37424.9482812, 11472.9482812,\n",
       "       15744.9482812, 12608.9482812, 13344.9482812,  4432.9482812,\n",
       "        2128.9482812, 38976.9482812,  3008.9482812, 36544.9482812,\n",
       "        2240.9482812,  4784.9482812,  6752.9482812, 11904.9482812,\n",
       "        2624.9482812, 34496.9482812, 33936.9482812, 31424.9482812,\n",
       "        5440.9482812,  6336.9482812, 29088.9482812,  4288.9482812,\n",
       "       10624.9482812, 12096.9482812,  9344.9482812, 35264.9482812,\n",
       "        7504.9482812, 26448.9482812, 11952.9482812,  9200.9482812,\n",
       "        9792.9482812, 14864.9482812, 12848.9482812, 16848.9482812,\n",
       "       27984.9482812, 41056.9482812,  1696.9482812,  3936.9482812,\n",
       "       33472.9482812,  3776.9482812,   128.9482812, 11584.9482812,\n",
       "       25248.9482812, 11184.9482812,  2048.9482812,  2368.9482812,\n",
       "        1392.9482812, 28672.9482812,  2112.9482812, 28544.9482812,\n",
       "       36944.9482812,  1696.9482812,  7552.9482812,  3920.9482812,\n",
       "       15184.9482812,  7232.9482812,  1136.9482812,  5136.9482812,\n",
       "       14528.9482812,  5616.9482812, 28976.9482812, 28320.9482812,\n",
       "        6928.9482812,  7680.9482812, 31952.9482812,   896.9482812,\n",
       "       34432.9482812,  8624.9482812,  -607.0517188, 11584.9482812,\n",
       "        4704.9482812,  9616.9482812,  4992.9482812,  3920.9482812,\n",
       "        7968.9482812, 31504.9482812, 28032.9482812,  9344.9482812,\n",
       "        6656.9482812,  6704.9482812,  4096.9482812,  4288.9482812,\n",
       "        1856.9482812,  1216.9482812, 11072.9482812, 31680.9482812,\n",
       "       10528.9482812, 35392.9482812, 13696.9482812,  9168.9482812,\n",
       "       32064.9482812,  6400.9482812, -1791.0517188, 38896.9482812,\n",
       "        7728.9482812, 24960.9482812, 10768.9482812,  2464.9482812,\n",
       "        7488.9482812, -1647.0517188, 15184.9482812,  3696.9482812,\n",
       "       34976.9482812, 37248.9482812, 19184.9482812, 29600.9482812,\n",
       "        6160.9482812,  3408.9482812, 10288.9482812, 10432.9482812,\n",
       "        3248.9482812, 11152.9482812,  4992.9482812,  1280.9482812,\n",
       "        1696.9482812,  3296.9482812,  6304.9482812,  1152.9482812,\n",
       "       32144.9482812, 12144.9482812,  5792.9482812,  9680.9482812,\n",
       "        6240.9482812,  8032.9482812, 28128.9482812,  9408.9482812,\n",
       "        7520.9482812,  5248.9482812, 14800.9482812, 28480.9482812,\n",
       "       14752.9482812,  8768.9482812,  8288.9482812, 27072.9482812,\n",
       "       30768.9482812,  8064.9482812,  3920.9482812, 11808.9482812,\n",
       "       24704.9482812, 31936.9482812,  5472.9482812,  9840.9482812,\n",
       "        7232.9482812,  9408.9482812,  3952.9482812, 11328.9482812,\n",
       "       14768.9482812,  7920.9482812, 11760.9482812,  8976.9482812,\n",
       "       14784.9482812, 34656.9482812,  2256.9482812,  2912.9482812,\n",
       "        7040.9482812,  5424.9482812,  3520.9482812, 40064.9482812,\n",
       "       -2015.0517188,  6848.9482812, 12144.9482812, 10208.9482812,\n",
       "        2320.9482812, 10112.9482812, 14016.9482812,  9072.9482812,\n",
       "        8784.9482812, 10624.9482812,  1040.9482812, 34304.9482812,\n",
       "        8816.9482812,  1632.9482812, 15920.9482812, 16256.9482812,\n",
       "         240.9482812, 17104.9482812,  8448.9482812, 15760.9482812,\n",
       "       10560.9482812,  8128.9482812, 10592.9482812,  6592.9482812,\n",
       "        7488.9482812,  5936.9482812, -2751.0517188, 13808.9482812,\n",
       "        5920.9482812, 10544.9482812,  4448.9482812, 36576.9482812,\n",
       "         256.9482812,  -127.0517188, 32256.9482812, 11184.9482812,\n",
       "        5184.9482812, 12224.9482812, 13632.9482812,  -223.0517188,\n",
       "        2752.9482812,  8784.9482812,  8192.9482812,  7792.9482812,\n",
       "       28960.9482812, 11344.9482812, 33600.9482812, 13152.9482812,\n",
       "       30336.9482812,  3392.9482812,   560.9482812,  1952.9482812,\n",
       "        9728.9482812,  3840.9482812,  4608.9482812, 14640.9482812,\n",
       "        2800.9482812,  6048.9482812,  4352.9482812,  8672.9482812,\n",
       "       11088.9482812,  9712.9482812,   832.9482812,   336.9482812,\n",
       "        5120.9482812,  7088.9482812, 34080.9482812,  6304.9482812,\n",
       "        9680.9482812, 35440.9482812, 10048.9482812, 26464.9482812,\n",
       "       12064.9482812,  5328.9482812,  1360.9482812, 12544.9482812,\n",
       "        6912.9482812,  8048.9482812,  9424.9482812,  4944.9482812,\n",
       "       12992.9482812,  6368.9482812,  8192.9482812,  6384.9482812,\n",
       "       12512.9482812,  7488.9482812, 33936.9482812, 17104.9482812,\n",
       "        6320.9482812, 11232.9482812,  3200.9482812,  5792.9482812,\n",
       "        6864.9482812, 10160.9482812, 31872.9482812,  3808.9482812,\n",
       "       16208.9482812, 14048.9482812,  6240.9482812, 37056.9482812,\n",
       "        3456.9482812, 12032.9482812, 11328.9482812,  3376.9482812,\n",
       "       10944.9482812, 13696.9482812,  2688.9482812,  6912.9482812,\n",
       "       13296.9482812,  5488.9482812, 34048.9482812,   768.9482812,\n",
       "        9360.9482812,  8672.9482812, 10896.9482812,  5248.9482812,\n",
       "        6720.9482812,  8640.9482812, 15264.9482812, 18576.9482812,\n",
       "       11568.9482812,  3968.9482812, 13328.9482812, 37744.9482812,\n",
       "        6640.9482812,  9344.9482812, 12608.9482812,  8272.9482812,\n",
       "       -1215.0517188, 12160.9482812, 15024.9482812, 16176.9482812,\n",
       "        6240.9482812, 11232.9482812, 37456.9482812, 35856.9482812,\n",
       "        7360.9482812, 13312.9482812,  5728.9482812,  4128.9482812,\n",
       "        3920.9482812, 10080.9482812, 12880.9482812,  8000.9482812,\n",
       "       10016.9482812,  5088.9482812,  2400.9482812,  4736.9482812,\n",
       "       10304.9482812, 26336.9482812, 24512.9482812, 39424.9482812,\n",
       "       27152.9482812,  8176.9482812,  1440.9482812, 35920.9482812,\n",
       "        2944.9482812,  9152.9482812, 33808.9482812,  6208.9482812,\n",
       "       16368.9482812,  6896.9482812,  7712.9482812,  7760.9482812,\n",
       "       38592.9482812,  6032.9482812, 28528.9482812,  7952.9482812,\n",
       "       12560.9482812,  6000.9482812,  4544.9482812,   192.9482812,\n",
       "       12032.9482812, 14320.9482812, 11712.9482812,  2464.9482812,\n",
       "        9408.9482812,  -671.0517188,  3792.9482812, 27504.9482812,\n",
       "        6464.9482812, 15472.9482812, 18336.9482812, 34864.9482812,\n",
       "        6688.9482812, 11248.9482812,  3648.9482812, 30592.9482812,\n",
       "       13808.9482812, 13680.9482812,  2160.9482812, 34816.9482812,\n",
       "        2592.9482812,  5760.9482812, 31408.9482812,  6112.9482812,\n",
       "       28128.9482812, 13296.9482812,  -255.0517188,  5232.9482812,\n",
       "       12720.9482812,  3680.9482812])"
      ]
     },
     "execution_count": 57,
     "metadata": {},
     "output_type": "execute_result"
    }
   ],
   "source": [
    "y_pred"
   ]
  },
  {
   "cell_type": "markdown",
   "id": "d0eb0847-eb63-4068-a32e-6557027b0c05",
   "metadata": {},
   "source": [
    "<h1>Precision del modelo</h1>"
   ]
  },
  {
   "cell_type": "code",
   "execution_count": 58,
   "id": "988fa354-d51e-4c7c-a944-b8a361fe0794",
   "metadata": {},
   "outputs": [],
   "source": [
    "from sklearn.metrics import mean_absolute_error, mean_absolute_percentage_error, mean_squared_error"
   ]
  },
  {
   "cell_type": "code",
   "execution_count": 59,
   "id": "f67094a5-4860-4723-9fcf-bd1bef6f52fa",
   "metadata": {},
   "outputs": [],
   "source": [
    "import numpy as np"
   ]
  },
  {
   "cell_type": "code",
   "execution_count": 60,
   "id": "0cc143bc-d174-412e-9ab4-3b605e82e9c8",
   "metadata": {},
   "outputs": [
    {
     "data": {
      "text/plain": [
       "4135.9239775512"
      ]
     },
     "execution_count": 60,
     "metadata": {},
     "output_type": "execute_result"
    }
   ],
   "source": [
    "mae = mean_absolute_error(y_test,y_pred)\n",
    "mae"
   ]
  },
  {
   "cell_type": "code",
   "execution_count": 61,
   "id": "3557b959-114d-4c2a-ab49-be8c9796db2b",
   "metadata": {},
   "outputs": [
    {
     "name": "stdout",
     "output_type": "stream",
     "text": [
      "0.41918588301447\n",
      "0.4191858830144582\n"
     ]
    }
   ],
   "source": [
    "mape = mean_absolute_percentage_error(y_test,y_pred)\n",
    "print(mape)\n",
    "\n",
    "# Para MAPE, evitamos dividir por cero; agregamos un pequeño número al denominador\n",
    "# Aqui lo escribimos en base a como esta definido el MAPE\n",
    "mape1 = np.mean(np.abs((y_test - y_pred) / (y_test + 1e-10)))\n",
    "\n",
    "print(mape1)"
   ]
  },
  {
   "cell_type": "code",
   "execution_count": 41,
   "id": "1c198ab9-ce88-4c31-bf87-71c44d33adcd",
   "metadata": {},
   "outputs": [
    {
     "data": {
      "text/plain": [
       "36998654.21275563"
      ]
     },
     "execution_count": 41,
     "metadata": {},
     "output_type": "execute_result"
    }
   ],
   "source": [
    "mse = mean_squared_error(y_test,y_pred)\n",
    "mse"
   ]
  },
  {
   "cell_type": "code",
   "execution_count": 62,
   "id": "a55366ff-d6e0-4a27-ba03-c6f9693b9016",
   "metadata": {},
   "outputs": [
    {
     "data": {
      "text/plain": [
       "6082.651906262237"
      ]
     },
     "execution_count": 62,
     "metadata": {},
     "output_type": "execute_result"
    }
   ],
   "source": [
    "rmse = np.sqrt(mse)\n",
    "rmse"
   ]
  },
  {
   "cell_type": "code",
   "execution_count": 63,
   "id": "76c63eac-f4c3-4417-9168-bee923495a76",
   "metadata": {},
   "outputs": [
    {
     "data": {
      "text/plain": [
       "0.7420032389358227"
      ]
     },
     "execution_count": 63,
     "metadata": {},
     "output_type": "execute_result"
    }
   ],
   "source": [
    "from sklearn.metrics import r2_score\n",
    "\n",
    "r_squared = r2_score(y_test, y_pred)\n",
    "r_squared"
   ]
  },
  {
   "cell_type": "code",
   "execution_count": 65,
   "id": "76964e1b-1672-474b-9bb7-18d88dc51b61",
   "metadata": {},
   "outputs": [
    {
     "name": "stdout",
     "output_type": "stream",
     "text": [
      "MEAN ABSOLUTE ERROR (MAE):  4135.9239775512\n",
      "MEAN SQUARED ERROR (MSE):  36998654.21275563\n",
      "ROOT MEAN SQUARED EROOR (RMSE):  6082.651906262237\n",
      "MEAN ABSOLUTE PERCENTAGE ERROR (MAPE):  0.41918588301447\n",
      "R-SQUARED:  0.7420032389358227\n",
      "INTERCEPT:  13376.9482811966\n",
      "COEF:  [ 3.61689486e+03 -1.54818533e+01  2.02774501e+03  6.04354105e+02\n",
      "  9.81796253e+03  1.95104867e+17  1.96260366e+17  2.01911185e+17\n",
      "  1.94811886e+17]\n"
     ]
    }
   ],
   "source": [
    "print(\"MEAN ABSOLUTE ERROR (MAE): \", mae)\n",
    "print(\"MEAN SQUARED ERROR (MSE): \", mse)\n",
    "print(\"ROOT MEAN SQUARED EROOR (RMSE): \", rmse)\n",
    "print(\"MEAN ABSOLUTE PERCENTAGE ERROR (MAPE): \", mape)\n",
    "print(\"R-SQUARED: \", r_squared)\n",
    "print(\"INTERCEPT: \", intercept)\n",
    "print(\"COEF: \", coef)"
   ]
  },
  {
   "cell_type": "code",
   "execution_count": 66,
   "id": "621e7a00-22ba-4e65-8e5f-0120a09bf3e3",
   "metadata": {},
   "outputs": [
    {
     "name": "stdout",
     "output_type": "stream",
     "text": [
      "La predicción para la nueva entrada es:  5424.948281196601\n"
     ]
    },
    {
     "name": "stderr",
     "output_type": "stream",
     "text": [
      "C:\\Users\\HP\\AppData\\Local\\Programs\\Python\\Python312\\Lib\\site-packages\\sklearn\\base.py:493: UserWarning: X does not have valid feature names, but StandardScaler was fitted with feature names\n",
      "  warnings.warn(\n"
     ]
    }
   ],
   "source": [
    "# Definir los valores para cada característica\n",
    "age = 21\n",
    "sex = 1\n",
    "bmi = 36\n",
    "children = 0\n",
    "smoker = 0\n",
    "region_northeast= 1\n",
    "region_northwest= 0\n",
    "region_southeast=0\n",
    "region_southwest=0\n",
    "\n",
    "# Combinar las variables en un array de numpy. \n",
    "# El orden de las variables debe de coincidir con el modelo\n",
    "new_data = np.array([[age,sex, bmi, children,smoker,region_northeast,region_northwest,region_southeast,region_southwest]])\n",
    "\n",
    "# Normalizar los nuevos datos de entrada \n",
    "# Utilizando el mismo escalador que se usó para los datos de entrenamiento\n",
    "new_data_scaled = scaler.transform(new_data)\n",
    "\n",
    "# Usar el modelo para hacer la predicción con los datos normalizados\n",
    "new_pred = model.predict(new_data_scaled)\n",
    "\n",
    "print(\"La predicción para la nueva entrada es: \", new_pred[0])"
   ]
  },
  {
   "cell_type": "markdown",
   "id": "53e0547f-d4c1-41b4-9dc8-c06845fc9ba6",
   "metadata": {},
   "source": [
    "<h1>Graficar</h1>"
   ]
  },
  {
   "cell_type": "code",
   "execution_count": 68,
   "id": "e54cf145-0b6b-4f1d-83f7-6ae06e434797",
   "metadata": {},
   "outputs": [],
   "source": [
    "from sklearn.decomposition import PCA\n",
    "import matplotlib.pyplot as plt\n",
    "\n",
    "X_scaled = scaler.fit_transform(X_test_scaled)\n",
    "X_train\n",
    "\n",
    "# Asumiendo X_scaled como tus datos de entrada escalados\n",
    "# Aplicar PCA para reducir a 2 dimensiones\n",
    "pca = PCA(n_components=2)\n",
    "X_pca = pca.fit_transform(X_scaled)\n",
    "\n",
    "# Asumiendo que model es tu modelo de regresión lineal ya entrenado\n",
    "# Necesitamos predecir los valores de y utilizando los datos originales escalados, no los componentes de PCA\n",
    "y_pred = model.predict(X_scaled)\n",
    "\n",
    "\n"
   ]
  },
  {
   "cell_type": "code",
   "execution_count": 71,
   "id": "d2b0dd71-d902-4e5a-a0d2-d6c3d1ea4fa8",
   "metadata": {},
   "outputs": [
    {
     "data": {
      "image/png": "[encoded data removed]",
      "text/plain": [
       "<Figure size 1000x600 with 1 Axes>"
      ]
     },
     "metadata": {},
     "output_type": "display_data"
    }
   ],
   "source": [
    "# Generar la gráfica de valores reales vs. predichos\n",
    "\n",
    "# Configura el tamaño de la figura que contendrá la gráfica.\n",
    "# Anchi = 10, Alto 6\n",
    "plt.figure(figsize=(10, 6))\n",
    "\n",
    "# Creamos gráfico de dispersión con valores reales de prueba (y_test) en el eje x\n",
    "# Las predicciones del modelo (y_pred) en el eje y \n",
    "# alpha lo que hace es que los datos sean ligeramente transparentes.\n",
    "plt.scatter(y_test, y_pred, alpha=0.8, label='Datos de Prueba')\n",
    "\n",
    "# Dibuja linea que indicaria donde deberian estar los puntos si predicciones fueran perfectas.\n",
    "# lw = 4 es el grosor de linea\n",
    "# 'k--' define que la linea sea punteada\n",
    "# Los primeros dos parametros son rangos para cada eje.\n",
    "plt.plot([y.min(), y.max()], [y.min(), y.max()], 'k--', lw=4, label='Predicción Perfecta')\n",
    "plt.xlabel('Valores Reales')\n",
    "plt.ylabel('Predicciones')\n",
    "plt.title('Comparación de Valores Reales vs. Predicciones')\n",
    "plt.legend()\n",
    "plt.show()\n"
   ]
  },
  {
   "cell_type": "code",
   "execution_count": 70,
   "id": "9fb246d1-e19a-4943-b1f5-a2f3ffab3520",
   "metadata": {},
   "outputs": [
    {
     "name": "stdout",
     "output_type": "stream",
     "text": [
      "                  Importancia (%)\n",
      "region_southeast     2.562038e+01\n",
      "region_northwest     2.490335e+01\n",
      "region_northeast     2.475673e+01\n",
      "region_southwest     2.471955e+01\n",
      "smoker               1.245795e-12\n",
      "age                  4.589454e-13\n",
      "bmi                  2.572992e-13\n",
      "children             7.668609e-14\n",
      "sex                  1.964482e-15\n"
     ]
    }
   ],
   "source": [
    "coefficients = model.coef_\n",
    "\n",
    "# Calcular la importancia relativa de cada variable en porcentaje\n",
    "importance = 100 * (abs(coefficients) / abs(coefficients).sum())\n",
    "\n",
    "# Suponiendo que 'X.columns' contiene los nombres de las variables independientes\n",
    "variables_importance = pd.DataFrame(importance, index=X.columns, columns=['Importancia (%)'])\n",
    "\n",
    "# Mostrar la tabla ordenada por importancia\n",
    "print(variables_importance.sort_values(by='Importancia (%)', ascending=False))"
   ]
  },
  {
   "cell_type": "code",
   "execution_count": null,
   "id": "67b3d4c1-d889-4e47-9586-e104e820ff57",
   "metadata": {},
   "outputs": [],
   "source": []
  }
 ],
 "metadata": {
  "kernelspec": {
   "display_name": "Python 3 (ipykernel)",
   "language": "python",
   "name": "python3"
  },
  "language_info": {
   "codemirror_mode": {
    "name": "ipython",
    "version": 3
   },
   "file_extension": ".py",
   "mimetype": "text/x-python",
   "name": "python",
   "nbconvert_exporter": "python",
   "pygments_lexer": "ipython3",
   "version": "3.12.1"
  }
 },
 "nbformat": 4,
 "nbformat_minor": 5
}
